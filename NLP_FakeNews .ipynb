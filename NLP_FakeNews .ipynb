{
  "nbformat": 4,
  "nbformat_minor": 0,
  "metadata": {
    "colab": {
      "provenance": []
    },
    "kernelspec": {
      "name": "python3",
      "display_name": "Python 3"
    },
    "language_info": {
      "name": "python"
    }
  },
  "cells": [
    {
      "cell_type": "markdown",
      "source": [
        "## **Classificação automática de notícias com NLP: Identificação de Fake News**"
      ],
      "metadata": {
        "id": "0W0R6otV_AtB"
      }
    },
    {
      "cell_type": "markdown",
      "source": [
        "**Objetivo:**\n",
        "\n",
        "Utilizar a classificação de notícias com NLP para identificar se uma notícia é real ou falsa, com base apenas em seu conteúdo textual.\n",
        "\n",
        "**Contexto:**\n",
        "\n",
        "Como a aplicação de NLP para identificação de notícias falsas pode nos auxiliar no nosso dia a dia, no combate à desinformação. Com a aplicação de técnicas de Processamento de Linguagem Natural (NLP) para classificar automaticamente notícias como verdadeiras ou falsas, utilizando um modelo supervisionado treinado com dados rotulados é possível utilizar o NLP no combate à desinformação digital, automatizando a identificação de fake news com base no conteúdo textual.\n",
        "\n",
        "**Onde pode ser encontrado?**\n",
        "\n",
        "*   Dataset: Fake and Real News Dataset\n",
        "*   Link: https://www.kaggle.com/datasets/clmentbisaillon/fake-and-real-news-dataset\n",
        "*   Origem: Kaggle\n",
        "*   Tamanho: ~44.000 notícias (divididas em classes “real” e “fake”)\n",
        "\n",
        "**Descrição do Dataset:**\n",
        "Este conjunto de dados contém manchetes e conteúdos de notícias classificadas como reais (provenientes de fontes confiáveis como Reuters, HuffPost) e falsas (extraídas de sites conhecidos por disseminar desinformação). Cada entrada possui:\n",
        "*   Título da notícia\n",
        "*   Texto completo\n",
        "*   Categoria (fake ou real)\n"
      ],
      "metadata": {
        "id": "5qJR5Ngn_0Tl"
      }
    },
    {
      "cell_type": "markdown",
      "source": [
        "### **Carregamento dos Dados**\n"
      ],
      "metadata": {
        "id": "gM2X9LLK5pQQ"
      }
    },
    {
      "cell_type": "code",
      "source": [
        "!pip install scikit-learn matplotlib seaborn pandas nltk"
      ],
      "metadata": {
        "colab": {
          "base_uri": "https://localhost:8080/"
        },
        "id": "OCgzsrVlvwKR",
        "outputId": "9bbd9126-b838-4583-afa6-27808903277a"
      },
      "execution_count": 51,
      "outputs": [
        {
          "output_type": "stream",
          "name": "stdout",
          "text": [
            "Requirement already satisfied: scikit-learn in /usr/local/lib/python3.11/dist-packages (1.6.1)\n",
            "Requirement already satisfied: matplotlib in /usr/local/lib/python3.11/dist-packages (3.10.0)\n",
            "Requirement already satisfied: seaborn in /usr/local/lib/python3.11/dist-packages (0.13.2)\n",
            "Requirement already satisfied: pandas in /usr/local/lib/python3.11/dist-packages (2.2.2)\n",
            "Requirement already satisfied: nltk in /usr/local/lib/python3.11/dist-packages (3.9.1)\n",
            "Requirement already satisfied: numpy>=1.19.5 in /usr/local/lib/python3.11/dist-packages (from scikit-learn) (2.0.2)\n",
            "Requirement already satisfied: scipy>=1.6.0 in /usr/local/lib/python3.11/dist-packages (from scikit-learn) (1.16.0)\n",
            "Requirement already satisfied: joblib>=1.2.0 in /usr/local/lib/python3.11/dist-packages (from scikit-learn) (1.5.1)\n",
            "Requirement already satisfied: threadpoolctl>=3.1.0 in /usr/local/lib/python3.11/dist-packages (from scikit-learn) (3.6.0)\n",
            "Requirement already satisfied: contourpy>=1.0.1 in /usr/local/lib/python3.11/dist-packages (from matplotlib) (1.3.2)\n",
            "Requirement already satisfied: cycler>=0.10 in /usr/local/lib/python3.11/dist-packages (from matplotlib) (0.12.1)\n",
            "Requirement already satisfied: fonttools>=4.22.0 in /usr/local/lib/python3.11/dist-packages (from matplotlib) (4.59.0)\n",
            "Requirement already satisfied: kiwisolver>=1.3.1 in /usr/local/lib/python3.11/dist-packages (from matplotlib) (1.4.8)\n",
            "Requirement already satisfied: packaging>=20.0 in /usr/local/lib/python3.11/dist-packages (from matplotlib) (25.0)\n",
            "Requirement already satisfied: pillow>=8 in /usr/local/lib/python3.11/dist-packages (from matplotlib) (11.3.0)\n",
            "Requirement already satisfied: pyparsing>=2.3.1 in /usr/local/lib/python3.11/dist-packages (from matplotlib) (3.2.3)\n",
            "Requirement already satisfied: python-dateutil>=2.7 in /usr/local/lib/python3.11/dist-packages (from matplotlib) (2.9.0.post0)\n",
            "Requirement already satisfied: pytz>=2020.1 in /usr/local/lib/python3.11/dist-packages (from pandas) (2025.2)\n",
            "Requirement already satisfied: tzdata>=2022.7 in /usr/local/lib/python3.11/dist-packages (from pandas) (2025.2)\n",
            "Requirement already satisfied: click in /usr/local/lib/python3.11/dist-packages (from nltk) (8.2.1)\n",
            "Requirement already satisfied: regex>=2021.8.3 in /usr/local/lib/python3.11/dist-packages (from nltk) (2024.11.6)\n",
            "Requirement already satisfied: tqdm in /usr/local/lib/python3.11/dist-packages (from nltk) (4.67.1)\n",
            "Requirement already satisfied: six>=1.5 in /usr/local/lib/python3.11/dist-packages (from python-dateutil>=2.7->matplotlib) (1.17.0)\n"
          ]
        }
      ]
    },
    {
      "cell_type": "code",
      "source": [
        "import pandas as pd\n",
        "import numpy as np\n",
        "import re\n",
        "import nltk\n",
        "from nltk.corpus import stopwords\n",
        "from nltk.stem import WordNetLemmatizer\n",
        "from sklearn.model_selection import train_test_split\n",
        "from sklearn.feature_extraction.text import TfidfVectorizer\n",
        "from sklearn.linear_model import LogisticRegression\n",
        "from sklearn.metrics import accuracy_score, precision_score, recall_score, f1_score, confusion_matrix, classification_report\n",
        "import matplotlib.pyplot as plt\n",
        "import seaborn as sns\n",
        "import tensorflow as tf"
      ],
      "metadata": {
        "id": "EWfVQGyBvzgF"
      },
      "execution_count": 52,
      "outputs": []
    },
    {
      "cell_type": "code",
      "source": [
        "nltk.download('stopwords')\n",
        "nltk.download('wordnet')\n",
        "nltk.download('punkt')"
      ],
      "metadata": {
        "colab": {
          "base_uri": "https://localhost:8080/"
        },
        "id": "QCEwG-1qwyud",
        "outputId": "de45fc57-5801-4fe1-cccc-845cf8d1fef5"
      },
      "execution_count": 53,
      "outputs": [
        {
          "output_type": "stream",
          "name": "stderr",
          "text": [
            "[nltk_data] Downloading package stopwords to /root/nltk_data...\n",
            "[nltk_data]   Package stopwords is already up-to-date!\n",
            "[nltk_data] Downloading package wordnet to /root/nltk_data...\n",
            "[nltk_data]   Package wordnet is already up-to-date!\n",
            "[nltk_data] Downloading package punkt to /root/nltk_data...\n",
            "[nltk_data]   Package punkt is already up-to-date!\n"
          ]
        },
        {
          "output_type": "execute_result",
          "data": {
            "text/plain": [
              "True"
            ]
          },
          "metadata": {},
          "execution_count": 53
        }
      ]
    },
    {
      "cell_type": "code",
      "source": [
        "from google.colab import drive\n",
        "drive.mount('/content/drive')\n",
        "\n",
        "df_fake = pd.read_csv('/content/drive/MyDrive/Colab Notebooks/Fake.csv')\n",
        "df_true = pd.read_csv('/content/drive/MyDrive/Colab Notebooks/True.csv')"
      ],
      "metadata": {
        "colab": {
          "base_uri": "https://localhost:8080/"
        },
        "id": "4LlH7j6tw3w1",
        "outputId": "9604fa40-a172-496b-9474-947f66bfe305"
      },
      "execution_count": 54,
      "outputs": [
        {
          "output_type": "stream",
          "name": "stdout",
          "text": [
            "Drive already mounted at /content/drive; to attempt to forcibly remount, call drive.mount(\"/content/drive\", force_remount=True).\n"
          ]
        }
      ]
    },
    {
      "cell_type": "code",
      "source": [
        "df_fake['label'] = 0  # Fake\n",
        "df_true['label'] = 1   # Real\n",
        "\n",
        "# Concatenar os dataframes e embaralhar\n",
        "df = pd.concat([df_fake, df_true]).sample(frac=1, random_state=42).reset_index(drop=True)"
      ],
      "metadata": {
        "id": "xF9u6-GcxoWU"
      },
      "execution_count": 55,
      "outputs": []
    },
    {
      "cell_type": "code",
      "source": [
        "print(\"Dados Carregados e Combinados\")\n",
        "print(f\"Total de notícias: {len(df)}\")"
      ],
      "metadata": {
        "colab": {
          "base_uri": "https://localhost:8080/"
        },
        "id": "6FQTT254x1X4",
        "outputId": "c546b3d9-56e0-4f3f-cb74-370a4594d254"
      },
      "execution_count": 56,
      "outputs": [
        {
          "output_type": "stream",
          "name": "stdout",
          "text": [
            "Dados Carregados e Combinados\n",
            "Total de notícias: 44898\n"
          ]
        }
      ]
    },
    {
      "cell_type": "code",
      "source": [
        "df.shape"
      ],
      "metadata": {
        "colab": {
          "base_uri": "https://localhost:8080/"
        },
        "id": "no2-skb46iDF",
        "outputId": "aca16eb4-2094-4e76-8b83-9c31f943626e"
      },
      "execution_count": 57,
      "outputs": [
        {
          "output_type": "execute_result",
          "data": {
            "text/plain": [
              "(44898, 5)"
            ]
          },
          "metadata": {},
          "execution_count": 57
        }
      ]
    },
    {
      "cell_type": "code",
      "source": [
        "# Tipagem dos dados\n",
        "\n",
        "df.info()"
      ],
      "metadata": {
        "colab": {
          "base_uri": "https://localhost:8080/"
        },
        "id": "x8zLv1-l6mq4",
        "outputId": "b5126fd3-816c-4616-9c44-cc9cfb43d02e"
      },
      "execution_count": 58,
      "outputs": [
        {
          "output_type": "stream",
          "name": "stdout",
          "text": [
            "<class 'pandas.core.frame.DataFrame'>\n",
            "RangeIndex: 44898 entries, 0 to 44897\n",
            "Data columns (total 5 columns):\n",
            " #   Column   Non-Null Count  Dtype \n",
            "---  ------   --------------  ----- \n",
            " 0   title    44898 non-null  object\n",
            " 1   text     44898 non-null  object\n",
            " 2   subject  44898 non-null  object\n",
            " 3   date     44898 non-null  object\n",
            " 4   label    44898 non-null  int64 \n",
            "dtypes: int64(1), object(4)\n",
            "memory usage: 1.7+ MB\n"
          ]
        }
      ]
    },
    {
      "cell_type": "code",
      "source": [
        "# Primeiros dados\n",
        "\n",
        "df.head()"
      ],
      "metadata": {
        "colab": {
          "base_uri": "https://localhost:8080/",
          "height": 206
        },
        "id": "bxELfnd_x5ox",
        "outputId": "178a627f-7c3f-41e6-9088-743d1c056cd5"
      },
      "execution_count": 59,
      "outputs": [
        {
          "output_type": "execute_result",
          "data": {
            "text/plain": [
              "                                               title  \\\n",
              "0  Ben Stein Calls Out 9th Circuit Court: Committ...   \n",
              "1  Trump drops Steve Bannon from National Securit...   \n",
              "2  Puerto Rico expects U.S. to lift Jones Act shi...   \n",
              "3   OOPS: Trump Just Accidentally Confirmed He Le...   \n",
              "4  Donald Trump heads for Scotland to reopen a go...   \n",
              "\n",
              "                                                text       subject  \\\n",
              "0  21st Century Wire says Ben Stein, reputable pr...       US_News   \n",
              "1  WASHINGTON (Reuters) - U.S. President Donald T...  politicsNews   \n",
              "2  (Reuters) - Puerto Rico Governor Ricardo Rosse...  politicsNews   \n",
              "3  On Monday, Donald Trump once again embarrassed...          News   \n",
              "4  GLASGOW, Scotland (Reuters) - Most U.S. presid...  politicsNews   \n",
              "\n",
              "                  date  label  \n",
              "0    February 13, 2017      0  \n",
              "1       April 5, 2017       1  \n",
              "2  September 27, 2017       1  \n",
              "3         May 22, 2017      0  \n",
              "4       June 24, 2016       1  "
            ],
            "text/html": [
              "\n",
              "  <div id=\"df-e75b9237-5431-4b7b-902e-47fe83129303\" class=\"colab-df-container\">\n",
              "    <div>\n",
              "<style scoped>\n",
              "    .dataframe tbody tr th:only-of-type {\n",
              "        vertical-align: middle;\n",
              "    }\n",
              "\n",
              "    .dataframe tbody tr th {\n",
              "        vertical-align: top;\n",
              "    }\n",
              "\n",
              "    .dataframe thead th {\n",
              "        text-align: right;\n",
              "    }\n",
              "</style>\n",
              "<table border=\"1\" class=\"dataframe\">\n",
              "  <thead>\n",
              "    <tr style=\"text-align: right;\">\n",
              "      <th></th>\n",
              "      <th>title</th>\n",
              "      <th>text</th>\n",
              "      <th>subject</th>\n",
              "      <th>date</th>\n",
              "      <th>label</th>\n",
              "    </tr>\n",
              "  </thead>\n",
              "  <tbody>\n",
              "    <tr>\n",
              "      <th>0</th>\n",
              "      <td>Ben Stein Calls Out 9th Circuit Court: Committ...</td>\n",
              "      <td>21st Century Wire says Ben Stein, reputable pr...</td>\n",
              "      <td>US_News</td>\n",
              "      <td>February 13, 2017</td>\n",
              "      <td>0</td>\n",
              "    </tr>\n",
              "    <tr>\n",
              "      <th>1</th>\n",
              "      <td>Trump drops Steve Bannon from National Securit...</td>\n",
              "      <td>WASHINGTON (Reuters) - U.S. President Donald T...</td>\n",
              "      <td>politicsNews</td>\n",
              "      <td>April 5, 2017</td>\n",
              "      <td>1</td>\n",
              "    </tr>\n",
              "    <tr>\n",
              "      <th>2</th>\n",
              "      <td>Puerto Rico expects U.S. to lift Jones Act shi...</td>\n",
              "      <td>(Reuters) - Puerto Rico Governor Ricardo Rosse...</td>\n",
              "      <td>politicsNews</td>\n",
              "      <td>September 27, 2017</td>\n",
              "      <td>1</td>\n",
              "    </tr>\n",
              "    <tr>\n",
              "      <th>3</th>\n",
              "      <td>OOPS: Trump Just Accidentally Confirmed He Le...</td>\n",
              "      <td>On Monday, Donald Trump once again embarrassed...</td>\n",
              "      <td>News</td>\n",
              "      <td>May 22, 2017</td>\n",
              "      <td>0</td>\n",
              "    </tr>\n",
              "    <tr>\n",
              "      <th>4</th>\n",
              "      <td>Donald Trump heads for Scotland to reopen a go...</td>\n",
              "      <td>GLASGOW, Scotland (Reuters) - Most U.S. presid...</td>\n",
              "      <td>politicsNews</td>\n",
              "      <td>June 24, 2016</td>\n",
              "      <td>1</td>\n",
              "    </tr>\n",
              "  </tbody>\n",
              "</table>\n",
              "</div>\n",
              "    <div class=\"colab-df-buttons\">\n",
              "\n",
              "  <div class=\"colab-df-container\">\n",
              "    <button class=\"colab-df-convert\" onclick=\"convertToInteractive('df-e75b9237-5431-4b7b-902e-47fe83129303')\"\n",
              "            title=\"Convert this dataframe to an interactive table.\"\n",
              "            style=\"display:none;\">\n",
              "\n",
              "  <svg xmlns=\"http://www.w3.org/2000/svg\" height=\"24px\" viewBox=\"0 -960 960 960\">\n",
              "    <path d=\"M120-120v-720h720v720H120Zm60-500h600v-160H180v160Zm220 220h160v-160H400v160Zm0 220h160v-160H400v160ZM180-400h160v-160H180v160Zm440 0h160v-160H620v160ZM180-180h160v-160H180v160Zm440 0h160v-160H620v160Z\"/>\n",
              "  </svg>\n",
              "    </button>\n",
              "\n",
              "  <style>\n",
              "    .colab-df-container {\n",
              "      display:flex;\n",
              "      gap: 12px;\n",
              "    }\n",
              "\n",
              "    .colab-df-convert {\n",
              "      background-color: #E8F0FE;\n",
              "      border: none;\n",
              "      border-radius: 50%;\n",
              "      cursor: pointer;\n",
              "      display: none;\n",
              "      fill: #1967D2;\n",
              "      height: 32px;\n",
              "      padding: 0 0 0 0;\n",
              "      width: 32px;\n",
              "    }\n",
              "\n",
              "    .colab-df-convert:hover {\n",
              "      background-color: #E2EBFA;\n",
              "      box-shadow: 0px 1px 2px rgba(60, 64, 67, 0.3), 0px 1px 3px 1px rgba(60, 64, 67, 0.15);\n",
              "      fill: #174EA6;\n",
              "    }\n",
              "\n",
              "    .colab-df-buttons div {\n",
              "      margin-bottom: 4px;\n",
              "    }\n",
              "\n",
              "    [theme=dark] .colab-df-convert {\n",
              "      background-color: #3B4455;\n",
              "      fill: #D2E3FC;\n",
              "    }\n",
              "\n",
              "    [theme=dark] .colab-df-convert:hover {\n",
              "      background-color: #434B5C;\n",
              "      box-shadow: 0px 1px 3px 1px rgba(0, 0, 0, 0.15);\n",
              "      filter: drop-shadow(0px 1px 2px rgba(0, 0, 0, 0.3));\n",
              "      fill: #FFFFFF;\n",
              "    }\n",
              "  </style>\n",
              "\n",
              "    <script>\n",
              "      const buttonEl =\n",
              "        document.querySelector('#df-e75b9237-5431-4b7b-902e-47fe83129303 button.colab-df-convert');\n",
              "      buttonEl.style.display =\n",
              "        google.colab.kernel.accessAllowed ? 'block' : 'none';\n",
              "\n",
              "      async function convertToInteractive(key) {\n",
              "        const element = document.querySelector('#df-e75b9237-5431-4b7b-902e-47fe83129303');\n",
              "        const dataTable =\n",
              "          await google.colab.kernel.invokeFunction('convertToInteractive',\n",
              "                                                    [key], {});\n",
              "        if (!dataTable) return;\n",
              "\n",
              "        const docLinkHtml = 'Like what you see? Visit the ' +\n",
              "          '<a target=\"_blank\" href=https://colab.research.google.com/notebooks/data_table.ipynb>data table notebook</a>'\n",
              "          + ' to learn more about interactive tables.';\n",
              "        element.innerHTML = '';\n",
              "        dataTable['output_type'] = 'display_data';\n",
              "        await google.colab.output.renderOutput(dataTable, element);\n",
              "        const docLink = document.createElement('div');\n",
              "        docLink.innerHTML = docLinkHtml;\n",
              "        element.appendChild(docLink);\n",
              "      }\n",
              "    </script>\n",
              "  </div>\n",
              "\n",
              "\n",
              "    <div id=\"df-e9d43ef4-f0aa-41b0-82ab-04d1b4c4962b\">\n",
              "      <button class=\"colab-df-quickchart\" onclick=\"quickchart('df-e9d43ef4-f0aa-41b0-82ab-04d1b4c4962b')\"\n",
              "                title=\"Suggest charts\"\n",
              "                style=\"display:none;\">\n",
              "\n",
              "<svg xmlns=\"http://www.w3.org/2000/svg\" height=\"24px\"viewBox=\"0 0 24 24\"\n",
              "     width=\"24px\">\n",
              "    <g>\n",
              "        <path d=\"M19 3H5c-1.1 0-2 .9-2 2v14c0 1.1.9 2 2 2h14c1.1 0 2-.9 2-2V5c0-1.1-.9-2-2-2zM9 17H7v-7h2v7zm4 0h-2V7h2v10zm4 0h-2v-4h2v4z\"/>\n",
              "    </g>\n",
              "</svg>\n",
              "      </button>\n",
              "\n",
              "<style>\n",
              "  .colab-df-quickchart {\n",
              "      --bg-color: #E8F0FE;\n",
              "      --fill-color: #1967D2;\n",
              "      --hover-bg-color: #E2EBFA;\n",
              "      --hover-fill-color: #174EA6;\n",
              "      --disabled-fill-color: #AAA;\n",
              "      --disabled-bg-color: #DDD;\n",
              "  }\n",
              "\n",
              "  [theme=dark] .colab-df-quickchart {\n",
              "      --bg-color: #3B4455;\n",
              "      --fill-color: #D2E3FC;\n",
              "      --hover-bg-color: #434B5C;\n",
              "      --hover-fill-color: #FFFFFF;\n",
              "      --disabled-bg-color: #3B4455;\n",
              "      --disabled-fill-color: #666;\n",
              "  }\n",
              "\n",
              "  .colab-df-quickchart {\n",
              "    background-color: var(--bg-color);\n",
              "    border: none;\n",
              "    border-radius: 50%;\n",
              "    cursor: pointer;\n",
              "    display: none;\n",
              "    fill: var(--fill-color);\n",
              "    height: 32px;\n",
              "    padding: 0;\n",
              "    width: 32px;\n",
              "  }\n",
              "\n",
              "  .colab-df-quickchart:hover {\n",
              "    background-color: var(--hover-bg-color);\n",
              "    box-shadow: 0 1px 2px rgba(60, 64, 67, 0.3), 0 1px 3px 1px rgba(60, 64, 67, 0.15);\n",
              "    fill: var(--button-hover-fill-color);\n",
              "  }\n",
              "\n",
              "  .colab-df-quickchart-complete:disabled,\n",
              "  .colab-df-quickchart-complete:disabled:hover {\n",
              "    background-color: var(--disabled-bg-color);\n",
              "    fill: var(--disabled-fill-color);\n",
              "    box-shadow: none;\n",
              "  }\n",
              "\n",
              "  .colab-df-spinner {\n",
              "    border: 2px solid var(--fill-color);\n",
              "    border-color: transparent;\n",
              "    border-bottom-color: var(--fill-color);\n",
              "    animation:\n",
              "      spin 1s steps(1) infinite;\n",
              "  }\n",
              "\n",
              "  @keyframes spin {\n",
              "    0% {\n",
              "      border-color: transparent;\n",
              "      border-bottom-color: var(--fill-color);\n",
              "      border-left-color: var(--fill-color);\n",
              "    }\n",
              "    20% {\n",
              "      border-color: transparent;\n",
              "      border-left-color: var(--fill-color);\n",
              "      border-top-color: var(--fill-color);\n",
              "    }\n",
              "    30% {\n",
              "      border-color: transparent;\n",
              "      border-left-color: var(--fill-color);\n",
              "      border-top-color: var(--fill-color);\n",
              "      border-right-color: var(--fill-color);\n",
              "    }\n",
              "    40% {\n",
              "      border-color: transparent;\n",
              "      border-right-color: var(--fill-color);\n",
              "      border-top-color: var(--fill-color);\n",
              "    }\n",
              "    60% {\n",
              "      border-color: transparent;\n",
              "      border-right-color: var(--fill-color);\n",
              "    }\n",
              "    80% {\n",
              "      border-color: transparent;\n",
              "      border-right-color: var(--fill-color);\n",
              "      border-bottom-color: var(--fill-color);\n",
              "    }\n",
              "    90% {\n",
              "      border-color: transparent;\n",
              "      border-bottom-color: var(--fill-color);\n",
              "    }\n",
              "  }\n",
              "</style>\n",
              "\n",
              "      <script>\n",
              "        async function quickchart(key) {\n",
              "          const quickchartButtonEl =\n",
              "            document.querySelector('#' + key + ' button');\n",
              "          quickchartButtonEl.disabled = true;  // To prevent multiple clicks.\n",
              "          quickchartButtonEl.classList.add('colab-df-spinner');\n",
              "          try {\n",
              "            const charts = await google.colab.kernel.invokeFunction(\n",
              "                'suggestCharts', [key], {});\n",
              "          } catch (error) {\n",
              "            console.error('Error during call to suggestCharts:', error);\n",
              "          }\n",
              "          quickchartButtonEl.classList.remove('colab-df-spinner');\n",
              "          quickchartButtonEl.classList.add('colab-df-quickchart-complete');\n",
              "        }\n",
              "        (() => {\n",
              "          let quickchartButtonEl =\n",
              "            document.querySelector('#df-e9d43ef4-f0aa-41b0-82ab-04d1b4c4962b button');\n",
              "          quickchartButtonEl.style.display =\n",
              "            google.colab.kernel.accessAllowed ? 'block' : 'none';\n",
              "        })();\n",
              "      </script>\n",
              "    </div>\n",
              "\n",
              "    </div>\n",
              "  </div>\n"
            ],
            "application/vnd.google.colaboratory.intrinsic+json": {
              "type": "dataframe",
              "variable_name": "df",
              "summary": "{\n  \"name\": \"df\",\n  \"rows\": 44898,\n  \"fields\": [\n    {\n      \"column\": \"title\",\n      \"properties\": {\n        \"dtype\": \"string\",\n        \"num_unique_values\": 38729,\n        \"samples\": [\n          \" WATCH: Dem Senator BLASTS Trump, Calls Him A Liar Live On Air\",\n          \"Trump calls for firm response to North Korea, targets Seoul on trade\",\n          \"Zimbabwe army leaves streets a month after Mugabe's ouster\"\n        ],\n        \"semantic_type\": \"\",\n        \"description\": \"\"\n      }\n    },\n    {\n      \"column\": \"text\",\n      \"properties\": {\n        \"dtype\": \"string\",\n        \"num_unique_values\": 38646,\n        \"samples\": [\n          \"It takes one to know one. Turkey just held a referendum that greatly expands the power of their president, Recep Tayyip Erdogan. It passed by a very narrow margin, taking Turkey on its latest step toward brutal dictatorship, and here s Donald Trump, who sources say called Erdogan to congratulate him on  winning  the referendum vote.While we re busy justifying blowing up absolutely nothing in Syria because a brutal dictator used sarin gas on his people, Trump is busy calling someone who s working hard on becoming the region s next brutal dictator to congratulate him on furthering that goal.This referendum, according to The Daily Beast, moves Turkey away from a parliamentary democracy and towards one-person rule. But what he has already done there makes the referendum more of a formality. Erdogan had already managed to form a one-party government   a move that greatly diminishes the voices of opposition.Last year, Erdogan asked Turkey s parliament to redefine the country s anti-extremism law to include politicians, journalists and members of academia. He claimed that  pro-Kurdish  politicians were inciting terrorism, and journalists and academics were spreading the info that allowed the politicians to do so. Therefore, they are all terrorists.Branding press as  the enemy  is something Trump has been trying to do here. As the Washington Post s front page motto says,  Democracy dies in darkness.  This is the darkness.And now, Erdogan is, more or less, the sole ruler of Turkey.But what does Trump care? It wouldn t be surprising to find that he wishes something like that would happen here, too, if for no other reason than it would help cement his overinflated opinion of himself as a great man who is beloved by all, with nobody left to shine a light on the truth, like, oh, say, a free press.The way the Turkey referendum was held has appalled international election monitors. According to them,  voters were not provided with adequate information, opposition voices were muzzled and the rules were changed at the last minute.  In short, this was not a truly democratic process.Good job continuing to support authoritarian rulers over true democracies, Trump. You re about as un-American as it gets.Featured image by Mark Wilson via Getty Images\",\n          \"Donald Trump just got caught lying again and there is video to prove it.When former FBI Director James Comey testified under oath in the Senate on Thursday, he recalled that Trump demanded loyalty from him before he was asked to drop the investigation of Michael Flynn and Trump s ties to Russia. The President said,  I need loyalty, I expect loyalty,  Comey testified.But when asked by ABC reporter Jon Karl if he had demanded Comey s loyalty, Trump denied the whole thing and pretended that he has never demanded loyalty from anyone in his entire life. So he said those things under oath,  Karl began.  Would you be willing to speak under oath to give your version of those events? One hundred percent,  Trump replied.  I didn t say under oath   I hardly know the man. I m not going to say, I want you to pledge allegiance. Who would do that? Who would ask a man to pledge allegiance under oath? I mean, think of it. I hardly know the man. It doesn t make sense. No, I didn t say that, and I didn t say the other. If Trump were to say this under oath he would he would be committing perjury. And CNN proved it by playing video of Trump on the campaign trail in Florida asking people in the crowd to raise their hands and pledge their loyalty to him. Keep in mind that Trump had never met anyone in that audience. But he had several discussions and meetings with Comey. In other words, Comey was not a complete stranger to him. If he was willing to ask a crowd of random people to pledge their allegiance to him, he would certainly be willing to demand loyalty from Comey.Here s the damning video via YouTube.This is yet more proof that Trump is a liar who has zero credibility. He will say anything to save his own ass.Featured image via Olivier Douliery   Pool/Getty Images\",\n          \"WASHINGTON (Reuters) - The U.S. State Department said on Monday Washington was  very concerned  by reports of violence around the Iraqi oil city of Kirkuk, which was seized by Baghdad s forces from Kurds.  We are monitoring the situation closely and call on all parties to coordinate military activities and restore calm,   State Department spokeswoman Heather Nauert said in a statement. \"\n        ],\n        \"semantic_type\": \"\",\n        \"description\": \"\"\n      }\n    },\n    {\n      \"column\": \"subject\",\n      \"properties\": {\n        \"dtype\": \"category\",\n        \"num_unique_values\": 8,\n        \"samples\": [\n          \"politicsNews\",\n          \"worldnews\",\n          \"US_News\"\n        ],\n        \"semantic_type\": \"\",\n        \"description\": \"\"\n      }\n    },\n    {\n      \"column\": \"date\",\n      \"properties\": {\n        \"dtype\": \"category\",\n        \"num_unique_values\": 2397,\n        \"samples\": [\n          \"July 3, 2016\",\n          \"Jul 29, 2015\",\n          \"Nov 28, 2016\"\n        ],\n        \"semantic_type\": \"\",\n        \"description\": \"\"\n      }\n    },\n    {\n      \"column\": \"label\",\n      \"properties\": {\n        \"dtype\": \"number\",\n        \"std\": 0,\n        \"min\": 0,\n        \"max\": 1,\n        \"num_unique_values\": 2,\n        \"samples\": [\n          1,\n          0\n        ],\n        \"semantic_type\": \"\",\n        \"description\": \"\"\n      }\n    }\n  ]\n}"
            }
          },
          "metadata": {},
          "execution_count": 59
        }
      ]
    },
    {
      "cell_type": "code",
      "source": [
        "#Últimos dados\n",
        "\n",
        "df.tail()"
      ],
      "metadata": {
        "colab": {
          "base_uri": "https://localhost:8080/",
          "height": 206
        },
        "id": "72IXxC8Y6yas",
        "outputId": "a4ee4435-4861-46ef-80ba-4a28e6e46b5a"
      },
      "execution_count": 60,
      "outputs": [
        {
          "output_type": "execute_result",
          "data": {
            "text/plain": [
              "                                                   title  \\\n",
              "44893  UNREAL! CBS’S TED KOPPEL Tells Sean Hannity He...   \n",
              "44894  PM May seeks to ease Japan's Brexit fears duri...   \n",
              "44895  Merkel: Difficult German coalition talks can r...   \n",
              "44896   Trump Stole An Idea From North Korean Propaga...   \n",
              "44897  BREAKING: HILLARY CLINTON’S STATE DEPARTMENT G...   \n",
              "\n",
              "                                                    text    subject  \\\n",
              "44893                                                      politics   \n",
              "44894  LONDON/TOKYO (Reuters) - British Prime Ministe...  worldnews   \n",
              "44895  BERLIN (Reuters) - Chancellor Angela Merkel sa...  worldnews   \n",
              "44896  Jesus f*cking Christ our President* is a moron...       News   \n",
              "44897  IF SHE S NOT TOAST NOW THEN WE RE IN BIGGER TR...   politics   \n",
              "\n",
              "                     date  label  \n",
              "44893        Mar 27, 2017      0  \n",
              "44894    August 29, 2017       1  \n",
              "44895  November 16, 2017       1  \n",
              "44896       July 14, 2017      0  \n",
              "44897        Apr 23, 2015      0  "
            ],
            "text/html": [
              "\n",
              "  <div id=\"df-bf5affb9-34c0-4c8c-96ec-6ae17b51f586\" class=\"colab-df-container\">\n",
              "    <div>\n",
              "<style scoped>\n",
              "    .dataframe tbody tr th:only-of-type {\n",
              "        vertical-align: middle;\n",
              "    }\n",
              "\n",
              "    .dataframe tbody tr th {\n",
              "        vertical-align: top;\n",
              "    }\n",
              "\n",
              "    .dataframe thead th {\n",
              "        text-align: right;\n",
              "    }\n",
              "</style>\n",
              "<table border=\"1\" class=\"dataframe\">\n",
              "  <thead>\n",
              "    <tr style=\"text-align: right;\">\n",
              "      <th></th>\n",
              "      <th>title</th>\n",
              "      <th>text</th>\n",
              "      <th>subject</th>\n",
              "      <th>date</th>\n",
              "      <th>label</th>\n",
              "    </tr>\n",
              "  </thead>\n",
              "  <tbody>\n",
              "    <tr>\n",
              "      <th>44893</th>\n",
              "      <td>UNREAL! CBS’S TED KOPPEL Tells Sean Hannity He...</td>\n",
              "      <td></td>\n",
              "      <td>politics</td>\n",
              "      <td>Mar 27, 2017</td>\n",
              "      <td>0</td>\n",
              "    </tr>\n",
              "    <tr>\n",
              "      <th>44894</th>\n",
              "      <td>PM May seeks to ease Japan's Brexit fears duri...</td>\n",
              "      <td>LONDON/TOKYO (Reuters) - British Prime Ministe...</td>\n",
              "      <td>worldnews</td>\n",
              "      <td>August 29, 2017</td>\n",
              "      <td>1</td>\n",
              "    </tr>\n",
              "    <tr>\n",
              "      <th>44895</th>\n",
              "      <td>Merkel: Difficult German coalition talks can r...</td>\n",
              "      <td>BERLIN (Reuters) - Chancellor Angela Merkel sa...</td>\n",
              "      <td>worldnews</td>\n",
              "      <td>November 16, 2017</td>\n",
              "      <td>1</td>\n",
              "    </tr>\n",
              "    <tr>\n",
              "      <th>44896</th>\n",
              "      <td>Trump Stole An Idea From North Korean Propaga...</td>\n",
              "      <td>Jesus f*cking Christ our President* is a moron...</td>\n",
              "      <td>News</td>\n",
              "      <td>July 14, 2017</td>\n",
              "      <td>0</td>\n",
              "    </tr>\n",
              "    <tr>\n",
              "      <th>44897</th>\n",
              "      <td>BREAKING: HILLARY CLINTON’S STATE DEPARTMENT G...</td>\n",
              "      <td>IF SHE S NOT TOAST NOW THEN WE RE IN BIGGER TR...</td>\n",
              "      <td>politics</td>\n",
              "      <td>Apr 23, 2015</td>\n",
              "      <td>0</td>\n",
              "    </tr>\n",
              "  </tbody>\n",
              "</table>\n",
              "</div>\n",
              "    <div class=\"colab-df-buttons\">\n",
              "\n",
              "  <div class=\"colab-df-container\">\n",
              "    <button class=\"colab-df-convert\" onclick=\"convertToInteractive('df-bf5affb9-34c0-4c8c-96ec-6ae17b51f586')\"\n",
              "            title=\"Convert this dataframe to an interactive table.\"\n",
              "            style=\"display:none;\">\n",
              "\n",
              "  <svg xmlns=\"http://www.w3.org/2000/svg\" height=\"24px\" viewBox=\"0 -960 960 960\">\n",
              "    <path d=\"M120-120v-720h720v720H120Zm60-500h600v-160H180v160Zm220 220h160v-160H400v160Zm0 220h160v-160H400v160ZM180-400h160v-160H180v160Zm440 0h160v-160H620v160ZM180-180h160v-160H180v160Zm440 0h160v-160H620v160Z\"/>\n",
              "  </svg>\n",
              "    </button>\n",
              "\n",
              "  <style>\n",
              "    .colab-df-container {\n",
              "      display:flex;\n",
              "      gap: 12px;\n",
              "    }\n",
              "\n",
              "    .colab-df-convert {\n",
              "      background-color: #E8F0FE;\n",
              "      border: none;\n",
              "      border-radius: 50%;\n",
              "      cursor: pointer;\n",
              "      display: none;\n",
              "      fill: #1967D2;\n",
              "      height: 32px;\n",
              "      padding: 0 0 0 0;\n",
              "      width: 32px;\n",
              "    }\n",
              "\n",
              "    .colab-df-convert:hover {\n",
              "      background-color: #E2EBFA;\n",
              "      box-shadow: 0px 1px 2px rgba(60, 64, 67, 0.3), 0px 1px 3px 1px rgba(60, 64, 67, 0.15);\n",
              "      fill: #174EA6;\n",
              "    }\n",
              "\n",
              "    .colab-df-buttons div {\n",
              "      margin-bottom: 4px;\n",
              "    }\n",
              "\n",
              "    [theme=dark] .colab-df-convert {\n",
              "      background-color: #3B4455;\n",
              "      fill: #D2E3FC;\n",
              "    }\n",
              "\n",
              "    [theme=dark] .colab-df-convert:hover {\n",
              "      background-color: #434B5C;\n",
              "      box-shadow: 0px 1px 3px 1px rgba(0, 0, 0, 0.15);\n",
              "      filter: drop-shadow(0px 1px 2px rgba(0, 0, 0, 0.3));\n",
              "      fill: #FFFFFF;\n",
              "    }\n",
              "  </style>\n",
              "\n",
              "    <script>\n",
              "      const buttonEl =\n",
              "        document.querySelector('#df-bf5affb9-34c0-4c8c-96ec-6ae17b51f586 button.colab-df-convert');\n",
              "      buttonEl.style.display =\n",
              "        google.colab.kernel.accessAllowed ? 'block' : 'none';\n",
              "\n",
              "      async function convertToInteractive(key) {\n",
              "        const element = document.querySelector('#df-bf5affb9-34c0-4c8c-96ec-6ae17b51f586');\n",
              "        const dataTable =\n",
              "          await google.colab.kernel.invokeFunction('convertToInteractive',\n",
              "                                                    [key], {});\n",
              "        if (!dataTable) return;\n",
              "\n",
              "        const docLinkHtml = 'Like what you see? Visit the ' +\n",
              "          '<a target=\"_blank\" href=https://colab.research.google.com/notebooks/data_table.ipynb>data table notebook</a>'\n",
              "          + ' to learn more about interactive tables.';\n",
              "        element.innerHTML = '';\n",
              "        dataTable['output_type'] = 'display_data';\n",
              "        await google.colab.output.renderOutput(dataTable, element);\n",
              "        const docLink = document.createElement('div');\n",
              "        docLink.innerHTML = docLinkHtml;\n",
              "        element.appendChild(docLink);\n",
              "      }\n",
              "    </script>\n",
              "  </div>\n",
              "\n",
              "\n",
              "    <div id=\"df-d839ea75-0d3a-4091-b482-94dda7f32614\">\n",
              "      <button class=\"colab-df-quickchart\" onclick=\"quickchart('df-d839ea75-0d3a-4091-b482-94dda7f32614')\"\n",
              "                title=\"Suggest charts\"\n",
              "                style=\"display:none;\">\n",
              "\n",
              "<svg xmlns=\"http://www.w3.org/2000/svg\" height=\"24px\"viewBox=\"0 0 24 24\"\n",
              "     width=\"24px\">\n",
              "    <g>\n",
              "        <path d=\"M19 3H5c-1.1 0-2 .9-2 2v14c0 1.1.9 2 2 2h14c1.1 0 2-.9 2-2V5c0-1.1-.9-2-2-2zM9 17H7v-7h2v7zm4 0h-2V7h2v10zm4 0h-2v-4h2v4z\"/>\n",
              "    </g>\n",
              "</svg>\n",
              "      </button>\n",
              "\n",
              "<style>\n",
              "  .colab-df-quickchart {\n",
              "      --bg-color: #E8F0FE;\n",
              "      --fill-color: #1967D2;\n",
              "      --hover-bg-color: #E2EBFA;\n",
              "      --hover-fill-color: #174EA6;\n",
              "      --disabled-fill-color: #AAA;\n",
              "      --disabled-bg-color: #DDD;\n",
              "  }\n",
              "\n",
              "  [theme=dark] .colab-df-quickchart {\n",
              "      --bg-color: #3B4455;\n",
              "      --fill-color: #D2E3FC;\n",
              "      --hover-bg-color: #434B5C;\n",
              "      --hover-fill-color: #FFFFFF;\n",
              "      --disabled-bg-color: #3B4455;\n",
              "      --disabled-fill-color: #666;\n",
              "  }\n",
              "\n",
              "  .colab-df-quickchart {\n",
              "    background-color: var(--bg-color);\n",
              "    border: none;\n",
              "    border-radius: 50%;\n",
              "    cursor: pointer;\n",
              "    display: none;\n",
              "    fill: var(--fill-color);\n",
              "    height: 32px;\n",
              "    padding: 0;\n",
              "    width: 32px;\n",
              "  }\n",
              "\n",
              "  .colab-df-quickchart:hover {\n",
              "    background-color: var(--hover-bg-color);\n",
              "    box-shadow: 0 1px 2px rgba(60, 64, 67, 0.3), 0 1px 3px 1px rgba(60, 64, 67, 0.15);\n",
              "    fill: var(--button-hover-fill-color);\n",
              "  }\n",
              "\n",
              "  .colab-df-quickchart-complete:disabled,\n",
              "  .colab-df-quickchart-complete:disabled:hover {\n",
              "    background-color: var(--disabled-bg-color);\n",
              "    fill: var(--disabled-fill-color);\n",
              "    box-shadow: none;\n",
              "  }\n",
              "\n",
              "  .colab-df-spinner {\n",
              "    border: 2px solid var(--fill-color);\n",
              "    border-color: transparent;\n",
              "    border-bottom-color: var(--fill-color);\n",
              "    animation:\n",
              "      spin 1s steps(1) infinite;\n",
              "  }\n",
              "\n",
              "  @keyframes spin {\n",
              "    0% {\n",
              "      border-color: transparent;\n",
              "      border-bottom-color: var(--fill-color);\n",
              "      border-left-color: var(--fill-color);\n",
              "    }\n",
              "    20% {\n",
              "      border-color: transparent;\n",
              "      border-left-color: var(--fill-color);\n",
              "      border-top-color: var(--fill-color);\n",
              "    }\n",
              "    30% {\n",
              "      border-color: transparent;\n",
              "      border-left-color: var(--fill-color);\n",
              "      border-top-color: var(--fill-color);\n",
              "      border-right-color: var(--fill-color);\n",
              "    }\n",
              "    40% {\n",
              "      border-color: transparent;\n",
              "      border-right-color: var(--fill-color);\n",
              "      border-top-color: var(--fill-color);\n",
              "    }\n",
              "    60% {\n",
              "      border-color: transparent;\n",
              "      border-right-color: var(--fill-color);\n",
              "    }\n",
              "    80% {\n",
              "      border-color: transparent;\n",
              "      border-right-color: var(--fill-color);\n",
              "      border-bottom-color: var(--fill-color);\n",
              "    }\n",
              "    90% {\n",
              "      border-color: transparent;\n",
              "      border-bottom-color: var(--fill-color);\n",
              "    }\n",
              "  }\n",
              "</style>\n",
              "\n",
              "      <script>\n",
              "        async function quickchart(key) {\n",
              "          const quickchartButtonEl =\n",
              "            document.querySelector('#' + key + ' button');\n",
              "          quickchartButtonEl.disabled = true;  // To prevent multiple clicks.\n",
              "          quickchartButtonEl.classList.add('colab-df-spinner');\n",
              "          try {\n",
              "            const charts = await google.colab.kernel.invokeFunction(\n",
              "                'suggestCharts', [key], {});\n",
              "          } catch (error) {\n",
              "            console.error('Error during call to suggestCharts:', error);\n",
              "          }\n",
              "          quickchartButtonEl.classList.remove('colab-df-spinner');\n",
              "          quickchartButtonEl.classList.add('colab-df-quickchart-complete');\n",
              "        }\n",
              "        (() => {\n",
              "          let quickchartButtonEl =\n",
              "            document.querySelector('#df-d839ea75-0d3a-4091-b482-94dda7f32614 button');\n",
              "          quickchartButtonEl.style.display =\n",
              "            google.colab.kernel.accessAllowed ? 'block' : 'none';\n",
              "        })();\n",
              "      </script>\n",
              "    </div>\n",
              "\n",
              "    </div>\n",
              "  </div>\n"
            ],
            "application/vnd.google.colaboratory.intrinsic+json": {
              "type": "dataframe",
              "summary": "{\n  \"name\": \"df\",\n  \"rows\": 5,\n  \"fields\": [\n    {\n      \"column\": \"title\",\n      \"properties\": {\n        \"dtype\": \"string\",\n        \"num_unique_values\": 5,\n        \"samples\": [\n          \"PM May seeks to ease Japan's Brexit fears during trade visit\",\n          \"BREAKING: HILLARY CLINTON\\u2019S STATE DEPARTMENT GAVE RUSSIA HALF OF U.S. URANIUM TO REWARD DONOR\",\n          \"Merkel: Difficult German coalition talks can reach a deal\"\n        ],\n        \"semantic_type\": \"\",\n        \"description\": \"\"\n      }\n    },\n    {\n      \"column\": \"text\",\n      \"properties\": {\n        \"dtype\": \"string\",\n        \"num_unique_values\": 5,\n        \"samples\": [\n          \"LONDON/TOKYO (Reuters) - British Prime Minister Theresa May will look to ease corporate Japan s worries about Brexit during a three-day visit to the country from Wednesday focused on progress on a bilateral trade deal for when Britain leaves the European Union. May s first trip to Japan as prime minister comes at a difficult moment, with Japanese attention focused on North Korea s Tuesday missile test and Britain s Brexit negotiators recently on the receiving end of sharp criticism from EU officials. May will lead a 15-strong business delegation, including Standard Life Investment (SLA.L) chief executive Keith Skeoch, and carmaker Aston Martin s CEO Andy Palmer, pitching Britain and Japan as the  perfect partners for the future . She will meet Japanese Prime Minister Shinzo Abe in Kyoto before traveling to Tokyo for an investment conference and banquet. May and Abe are due to speak publicly on Thursday following one-to-one talks.   My discussions with Prime Minister Abe will focus on how we can prepare the ground for an ambitious free trade agreement after Brexit, based on the EU-Japan agreement which I very much hope is nearing conclusion,  May said in a statement ahead of her departure. May will also discuss defense cooperation, describing Japan as  our closest security partner in Asia . She will become the first European leader to attend a meeting of Japan s National Security Council and will also visit its flagship helicopter carrier  Izumo  for a briefing with military officials. North Korea fired a ballistic missile over Japan s northern Hokkaido island into the sea early on Tuesday, prompting warnings to residents to take cover and drawing a sharp reaction from Abe. May also strongly condemned the launch. Japan s foreign ministry said the two leaders are expected to agree on the importance of China s role in ramping up pressure on North Korea. Japan has been unusually outspoken about its concerns that Britain s departure from the EU, which was decided by a public vote in 2016, could affect current and future Japanese investments in Britain. Britain is the second most important destination for Japanese investment after the United States, with firms like Nissan (7201.T), Toyota (7203.T) and Hitachi (6501.T) investing billions in carmaking, energy and transport.  During a visit to London by Abe in April, Britain said that Japanese companies had already invested over 40 billion pounds  ($52 billion) in the British economy. But Japan is also an important destination for British investment. Aston Martin said on Tuesday it will open an advanced product planning office next year in Japan to better understand the needs of Asian buyers and tap into new technologies.  The firm is hoping to boost demand from Japan and the United States partly as a way to mitigate against any risks from Brexit which could add costs and delays to the 15 percent of cars it currently sells into the European Union. Speaking ahead of May s visit, Japanese Deputy Chief Cabinet Secretary Yasutoshi Nishimura said Tokyo had to react to  a sense of crisis among businesses  over Brexit, and gather information about the British negotiating strategy. Britain has published a series of papers setting out how it wants to settle its divorce with the EU, and is pushing for talks to move on to discuss the future relationship between the two - something of critical importance to investors. But European Commission President Jean-Claude Juncker insisted on Tuesday that the new relationship could not be discussed until initial differences had been resolved, and the EU s chief negotiator Michel Barnier said on Monday he was concerned at the slow progress made so far. Japan s foreign ministry said Abe is expected to ask May to maintain transparency and predictability regarding Brexit so that any impact on corporate activity will be minimized - echoing concerns Abe expressed in April about a Brexit cliff-edge. May s spokeswoman said the prime minister would reiterate Britain s position that it is seeking to agree a time-limited Brexit transition period after March 2019 to avoid a sudden change in trading and regulatory conditions for businesses.   What they will discuss in private I can t pre-empt, but that is our position and she ll be setting that out if he (Abe) asks,  the spokeswoman said.  ($1 = 0.7724 pounds) \",\n          \"IF SHE S NOT TOAST NOW THEN WE RE IN BIGGER TROUBLE THAN I THOUGHT.  There s so much more to this whole thing and it s just getting worse for Bill and Hill. Chickens coming home to roost?Hillary Clinton s State Department was part of a panel that approved the sale of one of America s largest uranium mines at the same time a foundation controlled by the seller s chairman was making donations to a Clinton family charity, records reviewed by The Wall Street Journal show.The $610 million sale of 51% of Uranium One to a unit of Rosatom, Russia s state nuclear agency, was approved in 2010 by a U.S. federal committee that assesses the security implications of foreign investments. The State Department, which Mrs. Clinton then ran, is one of its members.Between 2008 and 2012, the Clinton Giustra Sustainable Growth Initiative, a project of the Clinton Foundation, received $2.35 million from the Fernwood Foundation, a family charity run by Ian Telfer, chairman of Uranium One before its sale, according to Canada Revenue Agency records.The donations were first reported in  Clinton Cash,  a new book by Peter Schweizer, an editor-at-large at a conservative news website, about the financial dealings of Mrs. Clinton and former President Bill Clinton. A copy of the book, set to be released next month, was reviewed by The Wall Street Journal. The book is to be published by HarperCollins, a division of News Corp., which also publishes the Journal.Via: Breitbart News\",\n          \"BERLIN (Reuters) - Chancellor Angela Merkel said German parties face a difficult task to bridge their differences in crunch coalition talks on Thursday, but she believes they can reach an agreement to work together in a new government.   We have very, very different positions,  she told reporters.  If it works - I think it can work - there can be a positive result at the end of today s negotiations. But this is a difficult task.  \"\n        ],\n        \"semantic_type\": \"\",\n        \"description\": \"\"\n      }\n    },\n    {\n      \"column\": \"subject\",\n      \"properties\": {\n        \"dtype\": \"string\",\n        \"num_unique_values\": 3,\n        \"samples\": [\n          \"politics\",\n          \"worldnews\",\n          \"News\"\n        ],\n        \"semantic_type\": \"\",\n        \"description\": \"\"\n      }\n    },\n    {\n      \"column\": \"date\",\n      \"properties\": {\n        \"dtype\": \"string\",\n        \"num_unique_values\": 5,\n        \"samples\": [\n          \"August 29, 2017 \",\n          \"Apr 23, 2015\",\n          \"November 16, 2017 \"\n        ],\n        \"semantic_type\": \"\",\n        \"description\": \"\"\n      }\n    },\n    {\n      \"column\": \"label\",\n      \"properties\": {\n        \"dtype\": \"number\",\n        \"std\": 0,\n        \"min\": 0,\n        \"max\": 1,\n        \"num_unique_values\": 2,\n        \"samples\": [\n          1,\n          0\n        ],\n        \"semantic_type\": \"\",\n        \"description\": \"\"\n      }\n    }\n  ]\n}"
            }
          },
          "metadata": {},
          "execution_count": 60
        }
      ]
    },
    {
      "cell_type": "code",
      "source": [
        "#Análise por variável\n",
        "\n",
        "eixo = df.hist(bins=20, color='lightpink', figsize=(4,4))"
      ],
      "metadata": {
        "colab": {
          "base_uri": "https://localhost:8080/",
          "height": 391
        },
        "id": "06IZhkIx61lN",
        "outputId": "fe932b7d-d6b5-4d1f-b61f-308ad047fcc4"
      },
      "execution_count": 61,
      "outputs": [
        {
          "output_type": "display_data",
          "data": {
            "text/plain": [
              "<Figure size 400x400 with 1 Axes>"
            ],
            "image/png": "[encoded data removed]"
          },
          "metadata": {}
        }
      ]
    },
    {
      "cell_type": "code",
      "source": [
        "print(\"Distribuição das classes:\")\n",
        "print(df['label'].value_counts())"
      ],
      "metadata": {
        "colab": {
          "base_uri": "https://localhost:8080/"
        },
        "id": "2sGvYBWCx9wG",
        "outputId": "6caac2b5-b60e-45be-b877-3968991048af"
      },
      "execution_count": 62,
      "outputs": [
        {
          "output_type": "stream",
          "name": "stdout",
          "text": [
            "Distribuição das classes:\n",
            "label\n",
            "0    23481\n",
            "1    21417\n",
            "Name: count, dtype: int64\n"
          ]
        }
      ]
    },
    {
      "cell_type": "code",
      "execution_count": 63,
      "metadata": {
        "colab": {
          "base_uri": "https://localhost:8080/"
        },
        "id": "Qv9y08XEu0B5",
        "outputId": "39055e45-8ce0-4280-e4ae-957aae97a18c"
      },
      "outputs": [
        {
          "output_type": "stream",
          "name": "stdout",
          "text": [
            "Verificando valores nulos:\n",
            "title      0\n",
            "text       0\n",
            "subject    0\n",
            "date       0\n",
            "label      0\n",
            "dtype: int64\n"
          ]
        }
      ],
      "source": [
        "print(\"Verificando valores nulos:\")\n",
        "print(df.isnull().sum())"
      ]
    },
    {
      "cell_type": "markdown",
      "source": [
        "### **Pré-processamento de Texto**\n",
        "Esta etapa limpa e padroniza o texto das notícias. Isso inclui converter para minúsculas, remover URLs e caracteres especiais, e aplicar tokenização, remoção de stop words e lematização. O objetivo é preparar o conteúdo textual para ser processado pelo modelo de forma eficiente."
      ],
      "metadata": {
        "id": "gkNOsg8r55gA"
      }
    },
    {
      "cell_type": "code",
      "source": [
        "# Pré-processamento de Texto\n",
        "stop_words = set(stopwords.words('english'))\n",
        "lemmatizer = WordNetLemmatizer()\n",
        "\n",
        "def preprocess_text(text):\n",
        "    if not isinstance(text, str):\n",
        "        return \"\"\n",
        "    text = text.lower()\n",
        "    text = re.sub(r'https?://\\S+|www\\.\\S+', '', text)\n",
        "    text = re.sub(r'<.*?>', '', text)\n",
        "    text = re.sub(r'[^a-zA-Z\\s]', '', text)\n",
        "    tokens = text.split()\n",
        "    tokens = [lemmatizer.lemmatize(word) for word in tokens if word not in stop_words]\n",
        "    return ' '.join(tokens)\n",
        "\n",
        "df['full_text'] = df['title'].fillna('') + ' ' + df['text'].fillna('')\n",
        "df['processed_text'] = df['full_text'].apply(preprocess_text)"
      ],
      "metadata": {
        "id": "F4g-sy-IyHts"
      },
      "execution_count": 64,
      "outputs": []
    },
    {
      "cell_type": "code",
      "source": [
        "print(\"Pré-processamento de Texto Concluído\")\n",
        "print(\"\\nExemplo de texto original vs. processado:\")\n",
        "print(f\"Original (primeiros 200 caracteres): {df['full_text'].iloc[0][:200]}...\")\n",
        "print(f\"Processado (primeiros 200 caracteres): {df['processed_text'].iloc[0][:200]}...\")"
      ],
      "metadata": {
        "colab": {
          "base_uri": "https://localhost:8080/"
        },
        "id": "JDsJyWySyBNJ",
        "outputId": "ccad312c-064d-4355-ab89-1bf6262fccac"
      },
      "execution_count": 65,
      "outputs": [
        {
          "output_type": "stream",
          "name": "stdout",
          "text": [
            "Pré-processamento de Texto Concluído\n",
            "\n",
            "Exemplo de texto original vs. processado:\n",
            "Original (primeiros 200 caracteres): Ben Stein Calls Out 9th Circuit Court: Committed a ‘Coup d’état’ Against the Constitution 21st Century Wire says Ben Stein, reputable professor from, Pepperdine University (also of some Hollywood fame...\n",
            "Processado (primeiros 200 caracteres): ben stein call th circuit court committed coup dtat constitution st century wire say ben stein reputable professor pepperdine university also hollywood fame appearing tv show film ferris bueller day m...\n"
          ]
        }
      ]
    },
    {
      "cell_type": "markdown",
      "source": [
        "### **Divisão dos Dados e Vetorização TF-IDF**\n",
        "Os dados são divididos em conjuntos de treino e teste. O texto pré-processado é então convertido em representações numéricas usando TF-IDF (Term Frequency-Inverse Document Frequency), que atribui pesos às palavras com base em sua importância no documento e no corpus, tornando-as compreensíveis para algoritmos de machine learning."
      ],
      "metadata": {
        "id": "B7oI3E8V6AJa"
      }
    },
    {
      "cell_type": "code",
      "source": [
        "# Divisão dos Dados\n",
        "X = df['processed_text']\n",
        "y = df['label']\n",
        "\n",
        "X_train, X_test, y_train, y_test = train_test_split(X, y, test_size=0.2, random_state=42, stratify=y)\n",
        "\n",
        "print(f\"Tamanho do conjunto de treino: {len(X_train)}\")\n",
        "print(f\"Tamanho do conjunto de teste: {len(X_test)}\")"
      ],
      "metadata": {
        "colab": {
          "base_uri": "https://localhost:8080/"
        },
        "id": "EyJbY4qhzKqz",
        "outputId": "ef6a5325-928f-4154-e703-d631493127ac"
      },
      "execution_count": 66,
      "outputs": [
        {
          "output_type": "stream",
          "name": "stdout",
          "text": [
            "Tamanho do conjunto de treino: 35918\n",
            "Tamanho do conjunto de teste: 8980\n"
          ]
        }
      ]
    },
    {
      "cell_type": "code",
      "source": [
        "# Vetorização TF-IDF\n",
        "tfidf_vectorizer = TfidfVectorizer(max_features=5000)\n",
        "\n",
        "X_train_tfidf = tfidf_vectorizer.fit_transform(X_train)\n",
        "X_test_tfidf = tfidf_vectorizer.transform(X_test)\n",
        "\n",
        "print(f\"Dimensões dos dados de treino TF-IDF: {X_train_tfidf.shape}\")\n",
        "print(f\"Dimensões dos dados de teste TF-IDF: {X_test_tfidf.shape}\")"
      ],
      "metadata": {
        "colab": {
          "base_uri": "https://localhost:8080/"
        },
        "id": "EejwqUx-zGZ3",
        "outputId": "17704031-10ef-4435-af31-aa5914e5f64e"
      },
      "execution_count": 67,
      "outputs": [
        {
          "output_type": "stream",
          "name": "stdout",
          "text": [
            "Dimensões dos dados de treino TF-IDF: (35918, 5000)\n",
            "Dimensões dos dados de teste TF-IDF: (8980, 5000)\n"
          ]
        }
      ]
    },
    {
      "cell_type": "markdown",
      "source": [
        "### **Construção e Treinamento do Modelo (com Early Stopping)**\n",
        "Uma rede neural é construída e treinada para classificar as notícias. O modelo utiliza camadas densas e dropout para aprendizado e regularização. A técnica de EarlyStopping é implementada para prevenir o overfitting, interrompendo o treinamento se a performance em validação não melhorar após algumas épocas, garantindo um modelo mais robusto."
      ],
      "metadata": {
        "id": "w1PiXgdt6Fh5"
      }
    },
    {
      "cell_type": "code",
      "source": [
        "# Construção e Treinamento do Modelo com Early Stopping\n",
        "model = tf.keras.Sequential([\n",
        "    tf.keras.layers.Input(shape=(X_train_tfidf.shape[1],), sparse=True),\n",
        "    tf.keras.layers.Dense(128, activation='relu'),\n",
        "    tf.keras.layers.Dropout(0.3),\n",
        "    tf.keras.layers.Dense(64, activation='relu'),\n",
        "    tf.keras.layers.Dropout(0.3),\n",
        "    tf.keras.layers.Dense(1, activation='sigmoid')\n",
        "])\n",
        "\n",
        "model.compile(optimizer='adam',\n",
        "              loss='binary_crossentropy',\n",
        "              metrics=['accuracy'])\n",
        "\n",
        "early_stopping = tf.keras.callbacks.EarlyStopping(\n",
        "    monitor='val_accuracy',\n",
        "    patience=5,\n",
        "    restore_best_weights=True,\n",
        "    mode='max',\n",
        "    verbose=1\n",
        ")\n",
        "\n",
        "print(\"Treinando o Modelo com Early Stopping\")\n",
        "history = model.fit(X_train_tfidf, y_train,\n",
        "                    epochs=50,\n",
        "                    batch_size=32,\n",
        "                    validation_split=0.1,\n",
        "                    callbacks=[early_stopping],\n",
        "                    verbose=1)\n",
        "\n",
        "print(\"\\nTreinamento do modelo concluído!\")\n",
        "\n",
        "# Plotar o histórico para visualizar o overfitting\n",
        "plt.figure(figsize=(12, 5))\n",
        "\n",
        "plt.subplot(1, 2, 1)\n",
        "plt.plot(history.history['accuracy'], label='Acurácia de Treino')\n",
        "plt.plot(history.history['val_accuracy'], label='Acurácia de Validação')\n",
        "plt.title('Histórico de Acurácia do Modelo')\n",
        "plt.xlabel('Época')\n",
        "plt.ylabel('Acurácia')\n",
        "plt.legend()\n",
        "\n",
        "plt.subplot(1, 2, 2)\n",
        "plt.plot(history.history['loss'], label='Perda de Treino')\n",
        "plt.plot(history.history['val_loss'], label='Perda de Validação')\n",
        "plt.title('Histórico de Perda do Modelo')\n",
        "plt.xlabel('Época')\n",
        "plt.ylabel('Perda')\n",
        "plt.legend()\n",
        "\n",
        "plt.tight_layout()\n",
        "plt.show()"
      ],
      "metadata": {
        "colab": {
          "base_uri": "https://localhost:8080/",
          "height": 1000
        },
        "id": "n2Zz3v1nz6eB",
        "outputId": "3df89b5e-abfc-443c-bf6e-25758c341519"
      },
      "execution_count": 68,
      "outputs": [
        {
          "output_type": "stream",
          "name": "stdout",
          "text": [
            "Treinando o Modelo com Early Stopping\n",
            "Epoch 1/50\n",
            "\u001b[1m1011/1011\u001b[0m \u001b[32m━━━━━━━━━━━━━━━━━━━━\u001b[0m\u001b[37m\u001b[0m \u001b[1m17s\u001b[0m 15ms/step - accuracy: 0.9399 - loss: 0.1839 - val_accuracy: 0.9916 - val_loss: 0.0227\n",
            "Epoch 2/50\n",
            "\u001b[1m1011/1011\u001b[0m \u001b[32m━━━━━━━━━━━━━━━━━━━━\u001b[0m\u001b[37m\u001b[0m \u001b[1m16s\u001b[0m 16ms/step - accuracy: 0.9971 - loss: 0.0122 - val_accuracy: 0.9925 - val_loss: 0.0249\n",
            "Epoch 3/50\n",
            "\u001b[1m1011/1011\u001b[0m \u001b[32m━━━━━━━━━━━━━━━━━━━━\u001b[0m\u001b[37m\u001b[0m \u001b[1m19s\u001b[0m 14ms/step - accuracy: 0.9984 - loss: 0.0048 - val_accuracy: 0.9928 - val_loss: 0.0230\n",
            "Epoch 4/50\n",
            "\u001b[1m1011/1011\u001b[0m \u001b[32m━━━━━━━━━━━━━━━━━━━━\u001b[0m\u001b[37m\u001b[0m \u001b[1m15s\u001b[0m 15ms/step - accuracy: 0.9992 - loss: 0.0023 - val_accuracy: 0.9928 - val_loss: 0.0301\n",
            "Epoch 5/50\n",
            "\u001b[1m1011/1011\u001b[0m \u001b[32m━━━━━━━━━━━━━━━━━━━━\u001b[0m\u001b[37m\u001b[0m \u001b[1m16s\u001b[0m 15ms/step - accuracy: 0.9994 - loss: 0.0018 - val_accuracy: 0.9916 - val_loss: 0.0282\n",
            "Epoch 6/50\n",
            "\u001b[1m1011/1011\u001b[0m \u001b[32m━━━━━━━━━━━━━━━━━━━━\u001b[0m\u001b[37m\u001b[0m \u001b[1m17s\u001b[0m 17ms/step - accuracy: 0.9996 - loss: 0.0015 - val_accuracy: 0.9922 - val_loss: 0.0287\n",
            "Epoch 7/50\n",
            "\u001b[1m1011/1011\u001b[0m \u001b[32m━━━━━━━━━━━━━━━━━━━━\u001b[0m\u001b[37m\u001b[0m \u001b[1m18s\u001b[0m 14ms/step - accuracy: 0.9997 - loss: 0.0011 - val_accuracy: 0.9930 - val_loss: 0.0328\n",
            "Epoch 8/50\n",
            "\u001b[1m1011/1011\u001b[0m \u001b[32m━━━━━━━━━━━━━━━━━━━━\u001b[0m\u001b[37m\u001b[0m \u001b[1m20s\u001b[0m 14ms/step - accuracy: 0.9998 - loss: 6.2511e-04 - val_accuracy: 0.9930 - val_loss: 0.0322\n",
            "Epoch 9/50\n",
            "\u001b[1m1011/1011\u001b[0m \u001b[32m━━━━━━━━━━━━━━━━━━━━\u001b[0m\u001b[37m\u001b[0m \u001b[1m12s\u001b[0m 12ms/step - accuracy: 0.9996 - loss: 6.5700e-04 - val_accuracy: 0.9930 - val_loss: 0.0389\n",
            "Epoch 10/50\n",
            "\u001b[1m1011/1011\u001b[0m \u001b[32m━━━━━━━━━━━━━━━━━━━━\u001b[0m\u001b[37m\u001b[0m \u001b[1m24s\u001b[0m 16ms/step - accuracy: 0.9998 - loss: 6.8964e-04 - val_accuracy: 0.9942 - val_loss: 0.0326\n",
            "Epoch 11/50\n",
            "\u001b[1m1011/1011\u001b[0m \u001b[32m━━━━━━━━━━━━━━━━━━━━\u001b[0m\u001b[37m\u001b[0m \u001b[1m19s\u001b[0m 14ms/step - accuracy: 0.9999 - loss: 1.8075e-04 - val_accuracy: 0.9930 - val_loss: 0.0391\n",
            "Epoch 12/50\n",
            "\u001b[1m1011/1011\u001b[0m \u001b[32m━━━━━━━━━━━━━━━━━━━━\u001b[0m\u001b[37m\u001b[0m \u001b[1m14s\u001b[0m 14ms/step - accuracy: 1.0000 - loss: 4.4358e-05 - val_accuracy: 0.9933 - val_loss: 0.0406\n",
            "Epoch 13/50\n",
            "\u001b[1m1011/1011\u001b[0m \u001b[32m━━━━━━━━━━━━━━━━━━━━\u001b[0m\u001b[37m\u001b[0m \u001b[1m23s\u001b[0m 17ms/step - accuracy: 1.0000 - loss: 8.5078e-06 - val_accuracy: 0.9939 - val_loss: 0.0445\n",
            "Epoch 14/50\n",
            "\u001b[1m1011/1011\u001b[0m \u001b[32m━━━━━━━━━━━━━━━━━━━━\u001b[0m\u001b[37m\u001b[0m \u001b[1m17s\u001b[0m 13ms/step - accuracy: 1.0000 - loss: 1.0833e-04 - val_accuracy: 0.9930 - val_loss: 0.0502\n",
            "Epoch 15/50\n",
            "\u001b[1m1011/1011\u001b[0m \u001b[32m━━━━━━━━━━━━━━━━━━━━\u001b[0m\u001b[37m\u001b[0m \u001b[1m22s\u001b[0m 15ms/step - accuracy: 0.9998 - loss: 2.8826e-04 - val_accuracy: 0.9936 - val_loss: 0.0457\n",
            "Epoch 15: early stopping\n",
            "Restoring model weights from the end of the best epoch: 10.\n",
            "\n",
            "Treinamento do modelo concluído!\n"
          ]
        },
        {
          "output_type": "display_data",
          "data": {
            "text/plain": [
              "<Figure size 1200x500 with 2 Axes>"
            ],
            "image/png": "[encoded data removed]"
          },
          "metadata": {}
        }
      ]
    },
    {
      "cell_type": "markdown",
      "source": [
        "### **Avaliação do Modelo**\n",
        "São calculadas métricas chave como acurácia, precisão, recall e F1-score, e uma matriz de confusão é gerada para visualizar a performance da classificação de notícias reais e falsas."
      ],
      "metadata": {
        "id": "uQIKCPF-6Ki_"
      }
    },
    {
      "cell_type": "code",
      "source": [
        "# Avaliação do Modelo\n",
        "print(\"Avaliando o Modelo no Conjunto de Teste\")\n",
        "loss, accuracy = model.evaluate(X_test_tfidf, y_test, verbose=0)\n",
        "print(f\"Acurácia no conjunto de teste: {accuracy:.4f}\")\n",
        "print(f\"Perda no conjunto de teste: {loss:.4f}\")\n",
        "\n",
        "y_pred_proba = model.predict(X_test_tfidf)\n",
        "y_pred = (y_pred_proba > 0.5).astype(int)\n",
        "\n",
        "print(\"\\nMétricas Detalhadas\")\n",
        "print(classification_report(y_test, y_pred, target_names=['Fake', 'Real']))"
      ],
      "metadata": {
        "colab": {
          "base_uri": "https://localhost:8080/"
        },
        "id": "kxxGbjWW3XbP",
        "outputId": "212bb807-dd2b-494b-fdb5-7f786beba8b3"
      },
      "execution_count": 69,
      "outputs": [
        {
          "output_type": "stream",
          "name": "stdout",
          "text": [
            "Avaliando o Modelo no Conjunto de Teste\n",
            "Acurácia no conjunto de teste: 0.9928\n",
            "Perda no conjunto de teste: 0.0570\n",
            "\u001b[1m281/281\u001b[0m \u001b[32m━━━━━━━━━━━━━━━━━━━━\u001b[0m\u001b[37m\u001b[0m \u001b[1m1s\u001b[0m 5ms/step\n",
            "\n",
            "Métricas Detalhadas\n",
            "              precision    recall  f1-score   support\n",
            "\n",
            "        Fake       0.99      0.99      0.99      4696\n",
            "        Real       0.99      0.99      0.99      4284\n",
            "\n",
            "    accuracy                           0.99      8980\n",
            "   macro avg       0.99      0.99      0.99      8980\n",
            "weighted avg       0.99      0.99      0.99      8980\n",
            "\n"
          ]
        }
      ]
    },
    {
      "cell_type": "code",
      "source": [
        "# Matriz de Confusão\n",
        "cm = confusion_matrix(y_test, y_pred)\n",
        "plt.figure(figsize=(8, 6))\n",
        "sns.heatmap(cm, annot=True, fmt='d', cmap='Blues', xticklabels=['Previsto Fake', 'Previsto Real'], yticklabels=['Real Fake', 'Real Real'])\n",
        "plt.title('Matriz de Confusão')\n",
        "plt.xlabel('Previsão')\n",
        "plt.ylabel('Valor Real')\n",
        "plt.show()\n",
        "\n",
        "accuracy = accuracy_score(y_test, y_pred)\n",
        "precision = precision_score(y_test, y_pred)\n",
        "recall = recall_score(y_test, y_pred)\n",
        "f1 = f1_score(y_test, y_pred)\n",
        "\n",
        "print(f\"Acurácia: {accuracy:.4f}\")\n",
        "print(f\"Precisão (Fake): {precision:.4f}\")\n",
        "print(f\"Recall (Fake): {recall:.4f}\")\n",
        "print(f\"F1-Score (Fake): {f1:.4f}\")"
      ],
      "metadata": {
        "colab": {
          "base_uri": "https://localhost:8080/",
          "height": 633
        },
        "id": "Zvwt8VK13SUj",
        "outputId": "ea0a7559-d990-4475-d960-4f42c56da6af"
      },
      "execution_count": 70,
      "outputs": [
        {
          "output_type": "display_data",
          "data": {
            "text/plain": [
              "<Figure size 800x600 with 2 Axes>"
            ],
            "image/png": "[encoded data removed]"
          },
          "metadata": {}
        },
        {
          "output_type": "stream",
          "name": "stdout",
          "text": [
            "Acurácia: 0.9928\n",
            "Precisão (Fake): 0.9921\n",
            "Recall (Fake): 0.9928\n",
            "F1-Score (Fake): 0.9924\n"
          ]
        }
      ]
    }
  ]
}